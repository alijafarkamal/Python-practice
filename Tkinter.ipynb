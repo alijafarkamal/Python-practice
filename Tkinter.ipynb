{
 "cells": [
  {
   "cell_type": "code",
   "execution_count": 6,
   "id": "56f51832-4734-4aef-a135-08bc85611924",
   "metadata": {},
   "outputs": [],
   "source": [
    "from tkinter import *\n",
    "root = Tk()\n",
    "w = Label(root, text='GeeksForGeeks.org!')\n",
    "w.pack()\n",
    "root.mainloop()"
   ]
  },
  {
   "cell_type": "code",
   "execution_count": 12,
   "id": "e0f341f6-589f-498c-9573-d21616baff4b",
   "metadata": {},
   "outputs": [],
   "source": [
    "import tkinter as tk\n",
    "\n",
    "r = tk.Tk()\n",
    "r.title('Counting Seconds')\n",
    "button = tk.Button(r, text=\"\"\"Stop in the name of Chingam\n",
    "                            Chingum ka changal sa bachna yamponsible\"\"\", width=50, command=r.destroy)\n",
    "button.pack()\n",
    "r.mainloop()"
   ]
  },
  {
   "cell_type": "code",
   "execution_count": 14,
   "id": "f85d89c3-b9b1-462d-bac7-ee8bb88f9006",
   "metadata": {},
   "outputs": [],
   "source": [
    "from tkinter import *\n",
    "\n",
    "master = Tk()\n",
    "Label(master, text='First Name').grid(row=0)\n",
    "Label(master, text='Last Name').grid(row=1)\n",
    "e1 = Entry(master)\n",
    "e2 = Entry(master)\n",
    "e1.grid(row=0, column=1)\n",
    "e2.grid(row=1, column=1)\n",
    "mainloop()"
   ]
  },
  {
   "cell_type": "code",
   "execution_count": 15,
   "id": "1b62828a-9ebf-4859-8e22-c685d2598195",
   "metadata": {},
   "outputs": [],
   "source": [
    "from tkinter import *\n",
    "\n",
    "master = Tk()\n",
    "var1 = IntVar()\n",
    "Checkbutton(master, text='male', variable=var1).grid(row=0, sticky=W)\n",
    "var2 = IntVar()\n",
    "Checkbutton(master, text='female', variable=var2).grid(row=1, sticky=W)\n",
    "mainloop()"
   ]
  },
  {
   "cell_type": "code",
   "execution_count": 17,
   "id": "78155d67-bb9c-4b9d-87a7-a6d8dd959560",
   "metadata": {},
   "outputs": [],
   "source": [
    "from tkinter import *\n",
    "\n",
    "root = Tk()\n",
    "v = IntVar()\n",
    "Radiobutton(root, text='GfG', variable=v, value=1).pack(anchor=W)\n",
    "Radiobutton(root, text='MIT', variable=v, value=2).pack(anchor=W)\n",
    "Radiobutton(root, text='Cal', variable=v, value=3).pack(anchor=W)\n",
    "Radiobutton(root, text='Harvard', variable=v, value=4).pack(anchor=W)\n",
    "mainloop()"
   ]
  },
  {
   "cell_type": "code",
   "execution_count": 18,
   "id": "10ab6855-be6b-4f6e-bf73-820b3ed648d8",
   "metadata": {},
   "outputs": [],
   "source": [
    "from tkinter import *\n",
    "\n",
    "top = Tk()\n",
    "Lb = Listbox(top)\n",
    "Lb.insert(1, 'Python')\n",
    "Lb.insert(2, 'Java')\n",
    "Lb.insert(3, 'C++')\n",
    "Lb.insert(4, 'Any other')\n",
    "Lb.pack()\n",
    "top.mainloop()\n"
   ]
  },
  {
   "cell_type": "code",
   "execution_count": 21,
   "id": "d70c52d5-7106-46a1-839c-3dbcb49892c3",
   "metadata": {},
   "outputs": [],
   "source": [
    "from tkinter import *\n",
    "root = Tk()\n",
    "scrollbar = Scrollbar(root)\n",
    "scrollbar.pack(side=RIGHT, fill=Y)\n",
    "mylist = Listbox(root, yscrollcommand=scrollbar.set)\n",
    "\n",
    "for line in range(100):\n",
    "    mylist.insert(END, 'This is line number' + str(line))\n",
    "    \n",
    "mylist.pack(side=LEFT, fill=BOTH)\n",
    "scrollbar.config(command=mylist.yview)\n",
    "mainloop()\n"
   ]
  },
  {
   "cell_type": "code",
   "execution_count": 22,
   "id": "2922d371-7e95-4d1d-ae03-41c31536ef48",
   "metadata": {},
   "outputs": [],
   "source": [
    "from tkinter import *\n",
    "root = Tk()\n",
    "menu = Menu(root)\n",
    "root.config(menu=menu)\n",
    "filemenu = Menu(menu)\n",
    "menu.add_cascade(label='File', menu=filemenu)\n",
    "filemenu.add_command(label='New')\n",
    "filemenu.add_command(label='Open...')\n",
    "filemenu.add_separator()\n",
    "filemenu.add_command(label='Exit', command=root.quit)\n",
    "helpmenu = Menu(menu)\n",
    "menu.add_cascade(label='Help', menu=helpmenu)\n",
    "helpmenu.add_command(label='About')\n",
    "mainloop()"
   ]
  },
  {
   "cell_type": "code",
   "execution_count": 1,
   "id": "d4163c9c-eca8-4e04-81be-46e6dc5368fe",
   "metadata": {},
   "outputs": [],
   "source": [
    "import tkinter as tk\n",
    "from tkinter import ttk\n",
    "\n",
    "def on_select(event):\n",
    "    selected_item = combo_box.get()\n",
    "    label.config(text=\"Selected Item: \" + selected_item)\n",
    "\n",
    "root = tk.Tk()\n",
    "root.title(\"Combobox Example\")\n",
    "\n",
    "# Create a label\n",
    "label = tk.Label(root, text=\"Selected Item: \")\n",
    "label.pack(pady=10)\n",
    "\n",
    "# Create a Combobox widget\n",
    "combo_box = ttk.Combobox(root, values=[\"Option 1\", \"Option 2\", \"Option 3\"])\n",
    "combo_box.pack(pady=5)\n",
    "\n",
    "# Set default value\n",
    "combo_box.set(\"Option 1\")\n",
    "\n",
    "# Bind event to selection\n",
    "combo_box.bind(\"<<ComboboxSelected>>\", on_select)\n",
    "\n",
    "root.mainloop()"
   ]
  },
  {
   "cell_type": "code",
   "execution_count": 5,
   "id": "80a3be4e-7be8-413a-b6ba-c25fed3e4aeb",
   "metadata": {},
   "outputs": [],
   "source": [
    "from tkinter import *\n",
    "\n",
    "main = Tk()\n",
    "ourMessage = 'This is our Message'\n",
    "messageVar = Message(main, text=ourMessage)\n",
    "messageVar.config(bg='orange')\n",
    "messageVar.pack()\n",
    "main.mainloop()\n"
   ]
  }
 ],
 "metadata": {
  "kernelspec": {
   "display_name": "Python 3 (ipykernel)",
   "language": "python",
   "name": "python3"
  },
  "language_info": {
   "codemirror_mode": {
    "name": "ipython",
    "version": 3
   },
   "file_extension": ".py",
   "mimetype": "text/x-python",
   "name": "python",
   "nbconvert_exporter": "python",
   "pygments_lexer": "ipython3",
   "version": "3.11.7"
  }
 },
 "nbformat": 4,
 "nbformat_minor": 5
}
